{
 "cells": [
  {
   "cell_type": "code",
   "execution_count": 269,
   "metadata": {},
   "outputs": [],
   "source": [
    "\"\"\" You must rename the folder containing the csv's to \\'data\\' \"\"\"\n",
    "\n",
    "import numpy as np\n",
    "import pandas as pd\n",
    "import matplotlib.pyplot as plt\n",
    "from sklearn.linear_model import LinearRegression\n",
    "import math"
   ]
  },
  {
   "cell_type": "code",
   "execution_count": 5,
   "metadata": {},
   "outputs": [],
   "source": [
    "wellness = pd.read_csv(filepath_or_buffer='./data/wellness.csv')\n",
    "gps = pd.read_csv(filepath_or_buffer='./data/gps.csv')\n",
    "games = pd.read_csv(filepath_or_buffer='./data/games.csv')\n",
    "rpe = pd.read_csv(filepath_or_buffer='./data/rpe.csv')"
   ]
  },
  {
   "cell_type": "code",
   "execution_count": 6,
   "metadata": {},
   "outputs": [],
   "source": [
    "wellness.Date = pd.to_datetime(wellness.Date, format=\"%Y-%m-%d\")"
   ]
  },
  {
   "cell_type": "code",
   "execution_count": 7,
   "metadata": {},
   "outputs": [
    {
     "data": {
      "text/html": [
       "<div>\n",
       "<style scoped>\n",
       "    .dataframe tbody tr th:only-of-type {\n",
       "        vertical-align: middle;\n",
       "    }\n",
       "\n",
       "    .dataframe tbody tr th {\n",
       "        vertical-align: top;\n",
       "    }\n",
       "\n",
       "    .dataframe thead th {\n",
       "        text-align: right;\n",
       "    }\n",
       "</style>\n",
       "<table border=\"1\" class=\"dataframe\">\n",
       "  <thead>\n",
       "    <tr style=\"text-align: right;\">\n",
       "      <th></th>\n",
       "      <th></th>\n",
       "      <th>Fatigue</th>\n",
       "      <th>Soreness</th>\n",
       "      <th>Desire</th>\n",
       "      <th>Irritability</th>\n",
       "      <th>BedTime</th>\n",
       "      <th>WakeTime</th>\n",
       "      <th>SleepHours</th>\n",
       "      <th>SleepQuality</th>\n",
       "      <th>MonitoringScore</th>\n",
       "      <th>Pain</th>\n",
       "      <th>Illness</th>\n",
       "      <th>Menstruation</th>\n",
       "      <th>Nutrition</th>\n",
       "      <th>NutritionAdjustment</th>\n",
       "      <th>USGMeasurement</th>\n",
       "      <th>USG</th>\n",
       "      <th>TrainingReadiness</th>\n",
       "    </tr>\n",
       "    <tr>\n",
       "      <th>Date</th>\n",
       "      <th>PlayerID</th>\n",
       "      <th></th>\n",
       "      <th></th>\n",
       "      <th></th>\n",
       "      <th></th>\n",
       "      <th></th>\n",
       "      <th></th>\n",
       "      <th></th>\n",
       "      <th></th>\n",
       "      <th></th>\n",
       "      <th></th>\n",
       "      <th></th>\n",
       "      <th></th>\n",
       "      <th></th>\n",
       "      <th></th>\n",
       "      <th></th>\n",
       "      <th></th>\n",
       "      <th></th>\n",
       "    </tr>\n",
       "  </thead>\n",
       "  <tbody>\n",
       "    <tr>\n",
       "      <th rowspan=\"5\" valign=\"top\">2018-07-21</th>\n",
       "      <th>1</th>\n",
       "      <td>3</td>\n",
       "      <td>3</td>\n",
       "      <td>2</td>\n",
       "      <td>3</td>\n",
       "      <td>23:00:00</td>\n",
       "      <td>07:00:00</td>\n",
       "      <td>8.00</td>\n",
       "      <td>2</td>\n",
       "      <td>13</td>\n",
       "      <td>No</td>\n",
       "      <td>No</td>\n",
       "      <td>Yes</td>\n",
       "      <td>Excellent</td>\n",
       "      <td>Yes</td>\n",
       "      <td>No</td>\n",
       "      <td>NaN</td>\n",
       "      <td>0%</td>\n",
       "    </tr>\n",
       "    <tr>\n",
       "      <th>2</th>\n",
       "      <td>4</td>\n",
       "      <td>3</td>\n",
       "      <td>4</td>\n",
       "      <td>4</td>\n",
       "      <td>23:00:00</td>\n",
       "      <td>07:00:00</td>\n",
       "      <td>8.00</td>\n",
       "      <td>4</td>\n",
       "      <td>19</td>\n",
       "      <td>Yes</td>\n",
       "      <td>No</td>\n",
       "      <td>Yes</td>\n",
       "      <td>NaN</td>\n",
       "      <td>NaN</td>\n",
       "      <td>Yes</td>\n",
       "      <td>1.010</td>\n",
       "      <td>0%</td>\n",
       "    </tr>\n",
       "    <tr>\n",
       "      <th>3</th>\n",
       "      <td>3</td>\n",
       "      <td>3</td>\n",
       "      <td>5</td>\n",
       "      <td>4</td>\n",
       "      <td>22:30:00</td>\n",
       "      <td>06:30:00</td>\n",
       "      <td>8.00</td>\n",
       "      <td>4</td>\n",
       "      <td>19</td>\n",
       "      <td>No</td>\n",
       "      <td>No</td>\n",
       "      <td>No</td>\n",
       "      <td>NaN</td>\n",
       "      <td>NaN</td>\n",
       "      <td>Yes</td>\n",
       "      <td>1.016</td>\n",
       "      <td>100%</td>\n",
       "    </tr>\n",
       "    <tr>\n",
       "      <th>4</th>\n",
       "      <td>2</td>\n",
       "      <td>3</td>\n",
       "      <td>5</td>\n",
       "      <td>4</td>\n",
       "      <td>00:30:00</td>\n",
       "      <td>07:00:00</td>\n",
       "      <td>6.50</td>\n",
       "      <td>1</td>\n",
       "      <td>15</td>\n",
       "      <td>No</td>\n",
       "      <td>No</td>\n",
       "      <td>Yes</td>\n",
       "      <td>Excellent</td>\n",
       "      <td>Yes</td>\n",
       "      <td>Yes</td>\n",
       "      <td>1.025</td>\n",
       "      <td>95%</td>\n",
       "    </tr>\n",
       "    <tr>\n",
       "      <th>5</th>\n",
       "      <td>5</td>\n",
       "      <td>3</td>\n",
       "      <td>4</td>\n",
       "      <td>4</td>\n",
       "      <td>23:45:00</td>\n",
       "      <td>07:00:00</td>\n",
       "      <td>7.25</td>\n",
       "      <td>4</td>\n",
       "      <td>20</td>\n",
       "      <td>No</td>\n",
       "      <td>No</td>\n",
       "      <td>No</td>\n",
       "      <td>Okay</td>\n",
       "      <td>Yes</td>\n",
       "      <td>Yes</td>\n",
       "      <td>1.022</td>\n",
       "      <td>100%</td>\n",
       "    </tr>\n",
       "  </tbody>\n",
       "</table>\n",
       "</div>"
      ],
      "text/plain": [
       "                     Fatigue  Soreness  Desire  Irritability   BedTime  \\\n",
       "Date       PlayerID                                                      \n",
       "2018-07-21 1               3         3       2             3  23:00:00   \n",
       "           2               4         3       4             4  23:00:00   \n",
       "           3               3         3       5             4  22:30:00   \n",
       "           4               2         3       5             4  00:30:00   \n",
       "           5               5         3       4             4  23:45:00   \n",
       "\n",
       "                     WakeTime  SleepHours  SleepQuality  MonitoringScore Pain  \\\n",
       "Date       PlayerID                                                             \n",
       "2018-07-21 1         07:00:00        8.00             2               13   No   \n",
       "           2         07:00:00        8.00             4               19  Yes   \n",
       "           3         06:30:00        8.00             4               19   No   \n",
       "           4         07:00:00        6.50             1               15   No   \n",
       "           5         07:00:00        7.25             4               20   No   \n",
       "\n",
       "                    Illness Menstruation  Nutrition NutritionAdjustment  \\\n",
       "Date       PlayerID                                                       \n",
       "2018-07-21 1             No          Yes  Excellent                 Yes   \n",
       "           2             No          Yes        NaN                 NaN   \n",
       "           3             No           No        NaN                 NaN   \n",
       "           4             No          Yes  Excellent                 Yes   \n",
       "           5             No           No       Okay                 Yes   \n",
       "\n",
       "                    USGMeasurement    USG TrainingReadiness  \n",
       "Date       PlayerID                                          \n",
       "2018-07-21 1                    No    NaN                0%  \n",
       "           2                   Yes  1.010                0%  \n",
       "           3                   Yes  1.016              100%  \n",
       "           4                   Yes  1.025               95%  \n",
       "           5                   Yes  1.022              100%  "
      ]
     },
     "execution_count": 7,
     "metadata": {},
     "output_type": "execute_result"
    }
   ],
   "source": [
    "date_wellness = wellness.set_index(['Date','PlayerID'])\n",
    "date_wellness.head(5)"
   ]
  },
  {
   "cell_type": "code",
   "execution_count": 8,
   "metadata": {},
   "outputs": [
    {
     "data": {
      "text/plain": [
       "<matplotlib.collections.PathCollection at 0x1094b6eb8>"
      ]
     },
     "execution_count": 8,
     "metadata": {},
     "output_type": "execute_result"
    },
    {
     "data": {
      "image/png": "[encoded data removed]",
      "text/plain": [
       "<Figure size 432x288 with 1 Axes>"
      ]
     },
     "metadata": {},
     "output_type": "display_data"
    }
   ],
   "source": [
    "player_wellness = date_wellness.swaplevel().sort_index()\n",
    "plt.scatter(player_wellness.loc[1].SleepHours.values, player_wellness.loc[1].Fatigue.values)\n"
   ]
  },
  {
   "cell_type": "code",
   "execution_count": 14,
   "metadata": {},
   "outputs": [
    {
     "name": "stdout",
     "output_type": "stream",
     "text": [
      "448\n"
     ]
    }
   ],
   "source": [
    "summation = 0\n",
    "for item in gps.groupby('GameID').PlayerID.unique():\n",
    "    summation += len(item)\n",
    "    \n",
    "print(summation)"
   ]
  },
  {
   "cell_type": "code",
   "execution_count": 15,
   "metadata": {},
   "outputs": [
    {
     "data": {
      "text/plain": [
       "189107"
      ]
     },
     "execution_count": 15,
     "metadata": {},
     "output_type": "execute_result"
    }
   ],
   "source": [
    "max([len(groups) for groups in gps.groupby('GameID').groups.values()])"
   ]
  },
  {
   "cell_type": "code",
   "execution_count": 467,
   "metadata": {},
   "outputs": [],
   "source": [
    "def aveg(input_list, across=10):\n",
    "    length = len(input_list)\n",
    "    start = 0\n",
    "    storage = np.zeros( math.ceil(length/across) )\n",
    "    index = 0\n",
    "    while (start + across -1) < length:\n",
    "        storage[index] = np.mean(input_list[start:(start+across)])\n",
    "        start += across\n",
    "        index += 1\n",
    "    if (not storage[-1]) and (start < length):\n",
    "        storage[-1] = np.mean(input_list[start:])\n",
    "    return storage\n",
    "\n",
    "def run_tsne_mat(dim_red = 10):\n",
    "    col_dim = max([ math.ceil( len(groups)/dim_red ) for groups in gps.groupby('GameID').groups.values()])\n",
    "    tsne_mat = np.zeros((448,col_dim*6))\n",
    "    \n",
    "    i = 0\n",
    "    j = 0\n",
    "    for group in gps.groupby('GameID').groups.values():\n",
    "        for player in gps.loc[group].groupby('PlayerID').groups.values():\n",
    "\n",
    "            AccelX_raw = np.array(gps.loc[player].AccelX)\n",
    "            AccelY_raw = np.array(gps.loc[player].AccelY)\n",
    "            AccelZ_raw = np.array(gps.loc[player].AccelZ)\n",
    "            AccelLoad_raw = np.array(gps.loc[player].AccelZ)\n",
    "            Speed_raw = np.array(gps.loc[player].Speed)\n",
    "            Impulse_raw = np.array(gps.loc[player].AccelImpulse)\n",
    "\n",
    "            AccelX = aveg(AccelX_raw,dim_red)\n",
    "            AccelY = aveg(AccelY_raw,dim_red)\n",
    "            AccelZ = aveg(AccelZ_raw,dim_red)\n",
    "            AccelLoad = aveg(AccelLoad_raw,dim_red)\n",
    "            Speed = aveg(Speed_raw,dim_red)\n",
    "            Impulse = aveg(Impulse_raw, dim_red)\n",
    "\n",
    "            for x in AccelX:\n",
    "                tsne_mat[i,j] \n",
    "                j+=1\n",
    "            j = col_dim\n",
    "            for y in AccelY:\n",
    "                tsne_mat[i,j] = y\n",
    "                j+=1\n",
    "            j = col_dim*2\n",
    "            for z in AccelZ:\n",
    "                tsne_mat[i,j] = z\n",
    "                j+=1\n",
    "            j = col_dim*3\n",
    "            for load in AccelLoad:\n",
    "                tsne_mat[i,j] = load\n",
    "                j+=1\n",
    "            j = col_dim*4\n",
    "            for speed in Speed:\n",
    "                tsne_mat[i,j] = speed\n",
    "                j+=1\n",
    "            j = col_dim*5\n",
    "            for impul in Impulse:\n",
    "                tsne_mat[i,j] = impul\n",
    "                j+=1\n",
    "            i+=1\n",
    "            j = 0\n",
    "    return tsne_mat\n",
    "    "
   ]
  },
  {
   "cell_type": "code",
   "execution_count": 474,
   "metadata": {},
   "outputs": [
    {
     "name": "stdout",
     "output_type": "stream",
     "text": [
      "(448, 226932)\n"
     ]
    }
   ],
   "source": [
    "tsne_mat = run_tsne_mat(5)\n",
    "print(tsne_mat.shape)"
   ]
  },
  {
   "cell_type": "code",
   "execution_count": 475,
   "metadata": {},
   "outputs": [
    {
     "data": {
      "text/plain": [
       "Text(0,0.5,'cumulative explained variance')"
      ]
     },
     "execution_count": 475,
     "metadata": {},
     "output_type": "execute_result"
    },
    {
     "data": {
      "image/png": "[encoded data removed]",
      "text/plain": [
       "<Figure size 432x288 with 1 Axes>"
      ]
     },
     "metadata": {},
     "output_type": "display_data"
    }
   ],
   "source": [
    "from sklearn.decomposition import PCA\n",
    "pca = PCA().fit(tsne_mat)\n",
    "plt.plot(np.cumsum(pca.explained_variance_ratio_))\n",
    "plt.xlabel('number of components')\n",
    "plt.ylabel('cumulative explained variance')"
   ]
  },
  {
   "cell_type": "code",
   "execution_count": 476,
   "metadata": {},
   "outputs": [],
   "source": [
    "pca = PCA(n_components=19)\n",
    "principalComponents = pca.fit_transform(tsne_mat)"
   ]
  },
  {
   "cell_type": "code",
   "execution_count": 488,
   "metadata": {},
   "outputs": [
    {
     "name": "stdout",
     "output_type": "stream",
     "text": [
      "(448, 2)\n"
     ]
    }
   ],
   "source": [
    "from sklearn.manifold import TSNE\n",
    "from sklearn.cluster import SpectralClustering\n",
    "scaler.fit(principalComponents)\n",
    "pc_std = scaler.transform(principalComponents)\n",
    "embedding = TSNE(n_components=2,perplexity=70,n_iter=600,early_exaggeration=3).fit_transform(principalComponents)\n",
    "print(embedding.shape)"
   ]
  },
  {
   "cell_type": "code",
   "execution_count": 489,
   "metadata": {},
   "outputs": [
    {
     "data": {
      "text/plain": [
       "<matplotlib.collections.PathCollection at 0x1a1d43b470>"
      ]
     },
     "execution_count": 489,
     "metadata": {},
     "output_type": "execute_result"
    },
    {
     "data": {
      "image/png": "[encoded data removed]",
      "text/plain": [
       "<Figure size 432x288 with 1 Axes>"
      ]
     },
     "metadata": {},
     "output_type": "display_data"
    }
   ],
   "source": [
    "plt.scatter(embedding[:,0],embedding[:,1])"
   ]
  },
  {
   "cell_type": "code",
   "execution_count": 495,
   "metadata": {},
   "outputs": [
    {
     "data": {
      "text/plain": [
       "<matplotlib.collections.PathCollection at 0x1a1e16b160>"
      ]
     },
     "execution_count": 495,
     "metadata": {},
     "output_type": "execute_result"
    },
    {
     "data": {
      "image/png": "[encoded data removed]",
      "text/plain": [
       "<Figure size 432x288 with 1 Axes>"
      ]
     },
     "metadata": {},
     "output_type": "display_data"
    }
   ],
   "source": [
    "model = SpectralClustering(n_clusters=3,affinity = 'nearest_neighbors')\n",
    "clu_emb = model.fit_predict(embedding)\n",
    "plt.scatter(embedding[:,0],embedding[:,1],c=clu_emb)"
   ]
  },
  {
   "cell_type": "code",
   "execution_count": 497,
   "metadata": {},
   "outputs": [],
   "source": [
    "pd.DataFrame(embedding).to_csv('tsne_3.csv')"
   ]
  },
  {
   "cell_type": "code",
   "execution_count": 498,
   "metadata": {},
   "outputs": [],
   "source": [
    "with_label = pd.DataFrame(embedding)\n",
    "with_label['label'] = clu_emb\n",
    "with_label.to_csv('tsne_lab_1.csv')"
   ]
  },
  {
   "cell_type": "code",
   "execution_count": null,
   "metadata": {},
   "outputs": [],
   "source": []
  }
 ],
 "metadata": {
  "kernelspec": {
   "display_name": "Python 3",
   "language": "python",
   "name": "python3"
  },
  "language_info": {
   "codemirror_mode": {
    "name": "ipython",
    "version": 3
   },
   "file_extension": ".py",
   "mimetype": "text/x-python",
   "name": "python",
   "nbconvert_exporter": "python",
   "pygments_lexer": "ipython3",
   "version": "3.6.5"
  }
 },
 "nbformat": 4,
 "nbformat_minor": 2
}
