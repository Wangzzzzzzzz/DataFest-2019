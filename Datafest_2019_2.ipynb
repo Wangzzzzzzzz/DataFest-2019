{
 "cells": [
  {
   "cell_type": "code",
   "execution_count": 1,
   "metadata": {},
   "outputs": [],
   "source": [
    "\"\"\" You must rename the folder containing the csv's to \\'data\\' \"\"\"\n",
    "import numpy as np\n",
    "import pandas as pd\n",
    "import matplotlib.pyplot as plt\n",
    "from sklearn.linear_model import LinearRegression\n",
    "import math"
   ]
  },
  {
   "cell_type": "code",
   "execution_count": 2,
   "metadata": {},
   "outputs": [],
   "source": [
    "wellness = pd.read_csv(filepath_or_buffer='./data/wellness.csv')\n",
    "gps = pd.read_csv(filepath_or_buffer='./data/gps.csv')\n",
    "games = pd.read_csv(filepath_or_buffer='./data/games.csv')\n",
    "rpe = pd.read_csv(filepath_or_buffer='./data/rpe.csv')"
   ]
  },
  {
   "cell_type": "code",
   "execution_count": 3,
   "metadata": {},
   "outputs": [],
   "source": [
    "wellness.Date = pd.to_datetime(wellness.Date, format=\"%Y-%m-%d\")"
   ]
  },
  {
   "cell_type": "code",
   "execution_count": 4,
   "metadata": {},
   "outputs": [
    {
     "data": {
      "text/html": [
       "<div>\n",
       "<style scoped>\n",
       "    .dataframe tbody tr th:only-of-type {\n",
       "        vertical-align: middle;\n",
       "    }\n",
       "\n",
       "    .dataframe tbody tr th {\n",
       "        vertical-align: top;\n",
       "    }\n",
       "\n",
       "    .dataframe thead th {\n",
       "        text-align: right;\n",
       "    }\n",
       "</style>\n",
       "<table border=\"1\" class=\"dataframe\">\n",
       "  <thead>\n",
       "    <tr style=\"text-align: right;\">\n",
       "      <th></th>\n",
       "      <th></th>\n",
       "      <th>Fatigue</th>\n",
       "      <th>Soreness</th>\n",
       "      <th>Desire</th>\n",
       "      <th>Irritability</th>\n",
       "      <th>BedTime</th>\n",
       "      <th>WakeTime</th>\n",
       "      <th>SleepHours</th>\n",
       "      <th>SleepQuality</th>\n",
       "      <th>MonitoringScore</th>\n",
       "      <th>Pain</th>\n",
       "      <th>Illness</th>\n",
       "      <th>Menstruation</th>\n",
       "      <th>Nutrition</th>\n",
       "      <th>NutritionAdjustment</th>\n",
       "      <th>USGMeasurement</th>\n",
       "      <th>USG</th>\n",
       "      <th>TrainingReadiness</th>\n",
       "    </tr>\n",
       "    <tr>\n",
       "      <th>Date</th>\n",
       "      <th>PlayerID</th>\n",
       "      <th></th>\n",
       "      <th></th>\n",
       "      <th></th>\n",
       "      <th></th>\n",
       "      <th></th>\n",
       "      <th></th>\n",
       "      <th></th>\n",
       "      <th></th>\n",
       "      <th></th>\n",
       "      <th></th>\n",
       "      <th></th>\n",
       "      <th></th>\n",
       "      <th></th>\n",
       "      <th></th>\n",
       "      <th></th>\n",
       "      <th></th>\n",
       "      <th></th>\n",
       "    </tr>\n",
       "  </thead>\n",
       "  <tbody>\n",
       "    <tr>\n",
       "      <th rowspan=\"5\" valign=\"top\">2018-07-21</th>\n",
       "      <th>1</th>\n",
       "      <td>3</td>\n",
       "      <td>3</td>\n",
       "      <td>2</td>\n",
       "      <td>3</td>\n",
       "      <td>23:00:00</td>\n",
       "      <td>07:00:00</td>\n",
       "      <td>8.00</td>\n",
       "      <td>2</td>\n",
       "      <td>13</td>\n",
       "      <td>No</td>\n",
       "      <td>No</td>\n",
       "      <td>Yes</td>\n",
       "      <td>Excellent</td>\n",
       "      <td>Yes</td>\n",
       "      <td>No</td>\n",
       "      <td>NaN</td>\n",
       "      <td>0%</td>\n",
       "    </tr>\n",
       "    <tr>\n",
       "      <th>2</th>\n",
       "      <td>4</td>\n",
       "      <td>3</td>\n",
       "      <td>4</td>\n",
       "      <td>4</td>\n",
       "      <td>23:00:00</td>\n",
       "      <td>07:00:00</td>\n",
       "      <td>8.00</td>\n",
       "      <td>4</td>\n",
       "      <td>19</td>\n",
       "      <td>Yes</td>\n",
       "      <td>No</td>\n",
       "      <td>Yes</td>\n",
       "      <td>NaN</td>\n",
       "      <td>NaN</td>\n",
       "      <td>Yes</td>\n",
       "      <td>1.010</td>\n",
       "      <td>0%</td>\n",
       "    </tr>\n",
       "    <tr>\n",
       "      <th>3</th>\n",
       "      <td>3</td>\n",
       "      <td>3</td>\n",
       "      <td>5</td>\n",
       "      <td>4</td>\n",
       "      <td>22:30:00</td>\n",
       "      <td>06:30:00</td>\n",
       "      <td>8.00</td>\n",
       "      <td>4</td>\n",
       "      <td>19</td>\n",
       "      <td>No</td>\n",
       "      <td>No</td>\n",
       "      <td>No</td>\n",
       "      <td>NaN</td>\n",
       "      <td>NaN</td>\n",
       "      <td>Yes</td>\n",
       "      <td>1.016</td>\n",
       "      <td>100%</td>\n",
       "    </tr>\n",
       "    <tr>\n",
       "      <th>4</th>\n",
       "      <td>2</td>\n",
       "      <td>3</td>\n",
       "      <td>5</td>\n",
       "      <td>4</td>\n",
       "      <td>00:30:00</td>\n",
       "      <td>07:00:00</td>\n",
       "      <td>6.50</td>\n",
       "      <td>1</td>\n",
       "      <td>15</td>\n",
       "      <td>No</td>\n",
       "      <td>No</td>\n",
       "      <td>Yes</td>\n",
       "      <td>Excellent</td>\n",
       "      <td>Yes</td>\n",
       "      <td>Yes</td>\n",
       "      <td>1.025</td>\n",
       "      <td>95%</td>\n",
       "    </tr>\n",
       "    <tr>\n",
       "      <th>5</th>\n",
       "      <td>5</td>\n",
       "      <td>3</td>\n",
       "      <td>4</td>\n",
       "      <td>4</td>\n",
       "      <td>23:45:00</td>\n",
       "      <td>07:00:00</td>\n",
       "      <td>7.25</td>\n",
       "      <td>4</td>\n",
       "      <td>20</td>\n",
       "      <td>No</td>\n",
       "      <td>No</td>\n",
       "      <td>No</td>\n",
       "      <td>Okay</td>\n",
       "      <td>Yes</td>\n",
       "      <td>Yes</td>\n",
       "      <td>1.022</td>\n",
       "      <td>100%</td>\n",
       "    </tr>\n",
       "  </tbody>\n",
       "</table>\n",
       "</div>"
      ],
      "text/plain": [
       "                     Fatigue  Soreness  Desire  Irritability   BedTime  \\\n",
       "Date       PlayerID                                                      \n",
       "2018-07-21 1               3         3       2             3  23:00:00   \n",
       "           2               4         3       4             4  23:00:00   \n",
       "           3               3         3       5             4  22:30:00   \n",
       "           4               2         3       5             4  00:30:00   \n",
       "           5               5         3       4             4  23:45:00   \n",
       "\n",
       "                     WakeTime  SleepHours  SleepQuality  MonitoringScore Pain  \\\n",
       "Date       PlayerID                                                             \n",
       "2018-07-21 1         07:00:00        8.00             2               13   No   \n",
       "           2         07:00:00        8.00             4               19  Yes   \n",
       "           3         06:30:00        8.00             4               19   No   \n",
       "           4         07:00:00        6.50             1               15   No   \n",
       "           5         07:00:00        7.25             4               20   No   \n",
       "\n",
       "                    Illness Menstruation  Nutrition NutritionAdjustment  \\\n",
       "Date       PlayerID                                                       \n",
       "2018-07-21 1             No          Yes  Excellent                 Yes   \n",
       "           2             No          Yes        NaN                 NaN   \n",
       "           3             No           No        NaN                 NaN   \n",
       "           4             No          Yes  Excellent                 Yes   \n",
       "           5             No           No       Okay                 Yes   \n",
       "\n",
       "                    USGMeasurement    USG TrainingReadiness  \n",
       "Date       PlayerID                                          \n",
       "2018-07-21 1                    No    NaN                0%  \n",
       "           2                   Yes  1.010                0%  \n",
       "           3                   Yes  1.016              100%  \n",
       "           4                   Yes  1.025               95%  \n",
       "           5                   Yes  1.022              100%  "
      ]
     },
     "execution_count": 4,
     "metadata": {},
     "output_type": "execute_result"
    }
   ],
   "source": [
    "date_wellness = wellness.set_index(['Date','PlayerID'])\n",
    "date_wellness.head(5)"
   ]
  },
  {
   "cell_type": "code",
   "execution_count": 5,
   "metadata": {},
   "outputs": [
    {
     "name": "stdout",
     "output_type": "stream",
     "text": [
      "448\n"
     ]
    }
   ],
   "source": [
    "summation = 0\n",
    "for item in gps.groupby('GameID').PlayerID.unique():\n",
    "    summation += len(item)\n",
    "    \n",
    "print(summation)"
   ]
  },
  {
   "cell_type": "code",
   "execution_count": 6,
   "metadata": {},
   "outputs": [
    {
     "data": {
      "text/plain": [
       "189107"
      ]
     },
     "execution_count": 6,
     "metadata": {},
     "output_type": "execute_result"
    }
   ],
   "source": [
    "max([len(groups) for groups in gps.groupby('GameID').groups.values()])"
   ]
  },
  {
   "cell_type": "code",
   "execution_count": 70,
   "metadata": {},
   "outputs": [],
   "source": [
    "def aveg(input_list, across=10):\n",
    "    length = len(input_list)\n",
    "    start = 0\n",
    "    storage = np.zeros( math.ceil(length/across) )\n",
    "    index = 0\n",
    "    while (start + across -1) < length:\n",
    "        storage[index] = np.max(input_list[start:(start+across)])\n",
    "        start += across\n",
    "        index += 1\n",
    "    if (not storage[-1]) and (start < length):\n",
    "        storage[-1] = np.max(input_list[start:])\n",
    "    return storage\n",
    "\n",
    "def run_tsne_mat(dim_red = 10):\n",
    "    col_dim = max([ math.ceil( len(groups)/dim_red ) for groups in gps.groupby('GameID').groups.values()])\n",
    "    tsne_mat = np.zeros((448,col_dim*6))\n",
    "    \n",
    "    i = 0\n",
    "    j = 0\n",
    "    \n",
    "    game_id_label = np.zeros(448)\n",
    "    player_id_label = np.zeros(448)\n",
    "    \n",
    "    for group in gps.groupby('GameID').groups.values():\n",
    "        for player in gps.loc[group].groupby('PlayerID').groups.values():\n",
    "\n",
    "            AccelX_raw = np.array(gps.loc[player].AccelX)\n",
    "            AccelY_raw = np.array(gps.loc[player].AccelY)\n",
    "            AccelZ_raw = np.array(gps.loc[player].AccelZ)\n",
    "            AccelLoad_raw = np.array(gps.loc[player].AccelZ)\n",
    "            Speed_raw = np.array(gps.loc[player].Speed)\n",
    "            Impulse_raw = np.array(gps.loc[player].AccelImpulse)\n",
    "\n",
    "            AccelX = aveg(AccelX_raw,dim_red)\n",
    "            AccelY = aveg(AccelY_raw,dim_red)\n",
    "            AccelZ = aveg(AccelZ_raw,dim_red)\n",
    "            AccelLoad = aveg(AccelLoad_raw,dim_red)\n",
    "            Speed = aveg(Speed_raw,dim_red)\n",
    "            Impulse = aveg(Impulse_raw, dim_red)\n",
    "\n",
    "            for x in AccelX:\n",
    "                tsne_mat[i,j] \n",
    "                j+=1\n",
    "            j = col_dim\n",
    "            for y in AccelY:\n",
    "                tsne_mat[i,j] = y\n",
    "                j+=1\n",
    "            j = col_dim*2\n",
    "            for z in AccelZ:\n",
    "                tsne_mat[i,j] = z\n",
    "                j+=1\n",
    "            j = col_dim*3\n",
    "            for load in AccelLoad:\n",
    "                tsne_mat[i,j] = load\n",
    "                j+=1\n",
    "            j = col_dim*4\n",
    "            for speed in Speed:\n",
    "                tsne_mat[i,j] = speed\n",
    "                j+=1\n",
    "            j = col_dim*5\n",
    "            for impul in Impulse:\n",
    "                tsne_mat[i,j] = impul\n",
    "                j+=1\n",
    "            \n",
    "            player_id_label[i] = np.array(gps.loc[player].PlayerID)[0]\n",
    "            game_id_label[i] = np.array(gps.loc[group].GameID)[0]\n",
    "            i+=1\n",
    "            j = 0\n",
    "    return (tsne_mat, game_id_label, player_id_label)\n",
    "    "
   ]
  },
  {
   "cell_type": "code",
   "execution_count": 83,
   "metadata": {},
   "outputs": [
    {
     "name": "stdout",
     "output_type": "stream",
     "text": [
      "(448, 226932)\n",
      "False\n",
      "False\n"
     ]
    }
   ],
   "source": [
    "tsne_mat, game_id, player_id = run_tsne_mat(5)\n",
    "print(tsne_mat.shape)\n",
    "print(any(game_id == 0))\n",
    "print(any(player_id == 0))"
   ]
  },
  {
   "cell_type": "code",
   "execution_count": 84,
   "metadata": {},
   "outputs": [
    {
     "data": {
      "text/plain": [
       "Text(0,0.5,'cumulative explained variance')"
      ]
     },
     "execution_count": 84,
     "metadata": {},
     "output_type": "execute_result"
    },
    {
     "data": {
      "image/png": "[encoded data removed]",
      "text/plain": [
       "<Figure size 432x288 with 1 Axes>"
      ]
     },
     "metadata": {
      "needs_background": "light"
     },
     "output_type": "display_data"
    }
   ],
   "source": [
    "from sklearn.decomposition import PCA\n",
    "pca = PCA().fit(tsne_mat)\n",
    "plt.plot(np.cumsum(pca.explained_variance_ratio_))\n",
    "plt.xlabel('number of components')\n",
    "plt.ylabel('cumulative explained variance')"
   ]
  },
  {
   "cell_type": "code",
   "execution_count": 149,
   "metadata": {},
   "outputs": [
    {
     "name": "stdout",
     "output_type": "stream",
     "text": [
      "[-19.46805893  -9.70914651  -1.06682679   1.87917146  12.47536957\n",
      "  -8.74964703 -16.51273383  18.76555541  18.59505196  11.9140728\n",
      "  23.4632266   11.39197089  -1.50657202   0.88549748 -10.00380846\n",
      "  -0.42661082  24.40600139 -23.74834063  13.24585215]\n"
     ]
    }
   ],
   "source": [
    "pca = PCA(n_components=19)\n",
    "principalComponents = pca.fit_transform(tsne_mat)"
   ]
  },
  {
   "cell_type": "code",
   "execution_count": 86,
   "metadata": {},
   "outputs": [
    {
     "name": "stdout",
     "output_type": "stream",
     "text": [
      "(448, 2)\n"
     ]
    }
   ],
   "source": [
    "from sklearn.manifold import TSNE\n",
    "from sklearn.cluster import KMeans\n",
    "embedding = TSNE(n_components=2,perplexity=70,n_iter=600,early_exaggeration=3).fit_transform(principalComponents)\n",
    "print(embedding.shape)"
   ]
  },
  {
   "cell_type": "code",
   "execution_count": 87,
   "metadata": {},
   "outputs": [
    {
     "data": {
      "text/plain": [
       "<matplotlib.collections.PathCollection at 0x1a213ac470>"
      ]
     },
     "execution_count": 87,
     "metadata": {},
     "output_type": "execute_result"
    },
    {
     "data": {
      "image/png": "[encoded data removed]",
      "text/plain": [
       "<Figure size 432x288 with 1 Axes>"
      ]
     },
     "metadata": {
      "needs_background": "light"
     },
     "output_type": "display_data"
    }
   ],
   "source": [
    "plt.scatter(embedding[:,0],embedding[:,1])"
   ]
  },
  {
   "cell_type": "code",
   "execution_count": 88,
   "metadata": {},
   "outputs": [
    {
     "data": {
      "text/plain": [
       "<matplotlib.collections.PathCollection at 0x1a230167b8>"
      ]
     },
     "execution_count": 88,
     "metadata": {},
     "output_type": "execute_result"
    },
    {
     "data": {
      "image/png": "[encoded data removed]",
      "text/plain": [
       "<Figure size 432x288 with 1 Axes>"
      ]
     },
     "metadata": {
      "needs_background": "light"
     },
     "output_type": "display_data"
    }
   ],
   "source": [
    "model = KMeans(n_clusters=2)\n",
    "clu_emb = model.fit_predict(embedding)\n",
    "plt.scatter(embedding[:,0],embedding[:,1],c=clu_emb)"
   ]
  },
  {
   "cell_type": "code",
   "execution_count": 14,
   "metadata": {},
   "outputs": [],
   "source": [
    "pd.DataFrame(embedding).to_csv('tsne_3.csv')"
   ]
  },
  {
   "cell_type": "code",
   "execution_count": 89,
   "metadata": {},
   "outputs": [],
   "source": [
    "with_label = pd.DataFrame(embedding)\n",
    "with_label['label'] = clu_emb\n",
    "with_label.to_csv('tsne_lab.csv')"
   ]
  },
  {
   "cell_type": "code",
   "execution_count": 90,
   "metadata": {},
   "outputs": [],
   "source": [
    "df = pd.read_csv('tsne_lab.csv')\n",
    "df['GameID'] = game_id\n",
    "df['PlayerID'] = player_id\n",
    "df.to_csv('tsne_lab_gp.csv')"
   ]
  },
  {
   "cell_type": "code",
   "execution_count": 133,
   "metadata": {},
   "outputs": [
    {
     "data": {
      "text/html": [
       "<div>\n",
       "<style scoped>\n",
       "    .dataframe tbody tr th:only-of-type {\n",
       "        vertical-align: middle;\n",
       "    }\n",
       "\n",
       "    .dataframe tbody tr th {\n",
       "        vertical-align: top;\n",
       "    }\n",
       "\n",
       "    .dataframe thead th {\n",
       "        text-align: right;\n",
       "    }\n",
       "</style>\n",
       "<table border=\"1\" class=\"dataframe\">\n",
       "  <thead>\n",
       "    <tr style=\"text-align: right;\">\n",
       "      <th></th>\n",
       "      <th></th>\n",
       "      <th>Fatigue</th>\n",
       "      <th>Soreness</th>\n",
       "      <th>Desire</th>\n",
       "      <th>Irritability</th>\n",
       "      <th>BedTime</th>\n",
       "      <th>WakeTime</th>\n",
       "      <th>SleepHours</th>\n",
       "      <th>SleepQuality</th>\n",
       "      <th>MonitoringScore</th>\n",
       "      <th>Pain</th>\n",
       "      <th>Illness</th>\n",
       "      <th>Menstruation</th>\n",
       "      <th>Nutrition</th>\n",
       "      <th>NutritionAdjustment</th>\n",
       "      <th>USGMeasurement</th>\n",
       "      <th>USG</th>\n",
       "      <th>TrainingReadiness</th>\n",
       "    </tr>\n",
       "    <tr>\n",
       "      <th>Date</th>\n",
       "      <th>PlayerID</th>\n",
       "      <th></th>\n",
       "      <th></th>\n",
       "      <th></th>\n",
       "      <th></th>\n",
       "      <th></th>\n",
       "      <th></th>\n",
       "      <th></th>\n",
       "      <th></th>\n",
       "      <th></th>\n",
       "      <th></th>\n",
       "      <th></th>\n",
       "      <th></th>\n",
       "      <th></th>\n",
       "      <th></th>\n",
       "      <th></th>\n",
       "      <th></th>\n",
       "      <th></th>\n",
       "    </tr>\n",
       "  </thead>\n",
       "  <tbody>\n",
       "    <tr>\n",
       "      <th rowspan=\"5\" valign=\"top\">2018-07-21</th>\n",
       "      <th>1</th>\n",
       "      <td>3</td>\n",
       "      <td>3</td>\n",
       "      <td>2</td>\n",
       "      <td>3</td>\n",
       "      <td>23:00:00</td>\n",
       "      <td>07:00:00</td>\n",
       "      <td>8.00</td>\n",
       "      <td>2</td>\n",
       "      <td>13</td>\n",
       "      <td>No</td>\n",
       "      <td>No</td>\n",
       "      <td>Yes</td>\n",
       "      <td>Excellent</td>\n",
       "      <td>Yes</td>\n",
       "      <td>No</td>\n",
       "      <td>NaN</td>\n",
       "      <td>0%</td>\n",
       "    </tr>\n",
       "    <tr>\n",
       "      <th>2</th>\n",
       "      <td>4</td>\n",
       "      <td>3</td>\n",
       "      <td>4</td>\n",
       "      <td>4</td>\n",
       "      <td>23:00:00</td>\n",
       "      <td>07:00:00</td>\n",
       "      <td>8.00</td>\n",
       "      <td>4</td>\n",
       "      <td>19</td>\n",
       "      <td>Yes</td>\n",
       "      <td>No</td>\n",
       "      <td>Yes</td>\n",
       "      <td>NaN</td>\n",
       "      <td>NaN</td>\n",
       "      <td>Yes</td>\n",
       "      <td>1.010</td>\n",
       "      <td>0%</td>\n",
       "    </tr>\n",
       "    <tr>\n",
       "      <th>3</th>\n",
       "      <td>3</td>\n",
       "      <td>3</td>\n",
       "      <td>5</td>\n",
       "      <td>4</td>\n",
       "      <td>22:30:00</td>\n",
       "      <td>06:30:00</td>\n",
       "      <td>8.00</td>\n",
       "      <td>4</td>\n",
       "      <td>19</td>\n",
       "      <td>No</td>\n",
       "      <td>No</td>\n",
       "      <td>No</td>\n",
       "      <td>NaN</td>\n",
       "      <td>NaN</td>\n",
       "      <td>Yes</td>\n",
       "      <td>1.016</td>\n",
       "      <td>100%</td>\n",
       "    </tr>\n",
       "    <tr>\n",
       "      <th>4</th>\n",
       "      <td>2</td>\n",
       "      <td>3</td>\n",
       "      <td>5</td>\n",
       "      <td>4</td>\n",
       "      <td>00:30:00</td>\n",
       "      <td>07:00:00</td>\n",
       "      <td>6.50</td>\n",
       "      <td>1</td>\n",
       "      <td>15</td>\n",
       "      <td>No</td>\n",
       "      <td>No</td>\n",
       "      <td>Yes</td>\n",
       "      <td>Excellent</td>\n",
       "      <td>Yes</td>\n",
       "      <td>Yes</td>\n",
       "      <td>1.025</td>\n",
       "      <td>95%</td>\n",
       "    </tr>\n",
       "    <tr>\n",
       "      <th>5</th>\n",
       "      <td>5</td>\n",
       "      <td>3</td>\n",
       "      <td>4</td>\n",
       "      <td>4</td>\n",
       "      <td>23:45:00</td>\n",
       "      <td>07:00:00</td>\n",
       "      <td>7.25</td>\n",
       "      <td>4</td>\n",
       "      <td>20</td>\n",
       "      <td>No</td>\n",
       "      <td>No</td>\n",
       "      <td>No</td>\n",
       "      <td>Okay</td>\n",
       "      <td>Yes</td>\n",
       "      <td>Yes</td>\n",
       "      <td>1.022</td>\n",
       "      <td>100%</td>\n",
       "    </tr>\n",
       "  </tbody>\n",
       "</table>\n",
       "</div>"
      ],
      "text/plain": [
       "                     Fatigue  Soreness  Desire  Irritability   BedTime  \\\n",
       "Date       PlayerID                                                      \n",
       "2018-07-21 1               3         3       2             3  23:00:00   \n",
       "           2               4         3       4             4  23:00:00   \n",
       "           3               3         3       5             4  22:30:00   \n",
       "           4               2         3       5             4  00:30:00   \n",
       "           5               5         3       4             4  23:45:00   \n",
       "\n",
       "                     WakeTime  SleepHours  SleepQuality  MonitoringScore Pain  \\\n",
       "Date       PlayerID                                                             \n",
       "2018-07-21 1         07:00:00        8.00             2               13   No   \n",
       "           2         07:00:00        8.00             4               19  Yes   \n",
       "           3         06:30:00        8.00             4               19   No   \n",
       "           4         07:00:00        6.50             1               15   No   \n",
       "           5         07:00:00        7.25             4               20   No   \n",
       "\n",
       "                    Illness Menstruation  Nutrition NutritionAdjustment  \\\n",
       "Date       PlayerID                                                       \n",
       "2018-07-21 1             No          Yes  Excellent                 Yes   \n",
       "           2             No          Yes        NaN                 NaN   \n",
       "           3             No           No        NaN                 NaN   \n",
       "           4             No          Yes  Excellent                 Yes   \n",
       "           5             No           No       Okay                 Yes   \n",
       "\n",
       "                    USGMeasurement    USG TrainingReadiness  \n",
       "Date       PlayerID                                          \n",
       "2018-07-21 1                    No    NaN                0%  \n",
       "           2                   Yes  1.010                0%  \n",
       "           3                   Yes  1.016              100%  \n",
       "           4                   Yes  1.025               95%  \n",
       "           5                   Yes  1.022              100%  "
      ]
     },
     "execution_count": 133,
     "metadata": {},
     "output_type": "execute_result"
    }
   ],
   "source": [
    "# set the wellness dataset\n",
    "date_wellness = wellness.set_index(['Date','PlayerID'])\n",
    "date_wellness.head(5)"
   ]
  },
  {
   "cell_type": "code",
   "execution_count": 92,
   "metadata": {},
   "outputs": [
    {
     "data": {
      "text/html": [
       "<div>\n",
       "<style scoped>\n",
       "    .dataframe tbody tr th:only-of-type {\n",
       "        vertical-align: middle;\n",
       "    }\n",
       "\n",
       "    .dataframe tbody tr th {\n",
       "        vertical-align: top;\n",
       "    }\n",
       "\n",
       "    .dataframe thead th {\n",
       "        text-align: right;\n",
       "    }\n",
       "</style>\n",
       "<table border=\"1\" class=\"dataframe\">\n",
       "  <thead>\n",
       "    <tr style=\"text-align: right;\">\n",
       "      <th></th>\n",
       "      <th>Date</th>\n",
       "      <th>Tournament</th>\n",
       "      <th>TournamentGame</th>\n",
       "      <th>Team</th>\n",
       "      <th>Opponent</th>\n",
       "      <th>Outcome</th>\n",
       "      <th>TeamPoints</th>\n",
       "      <th>TeamPointsAllowed</th>\n",
       "    </tr>\n",
       "    <tr>\n",
       "      <th>GameID</th>\n",
       "      <th></th>\n",
       "      <th></th>\n",
       "      <th></th>\n",
       "      <th></th>\n",
       "      <th></th>\n",
       "      <th></th>\n",
       "      <th></th>\n",
       "      <th></th>\n",
       "    </tr>\n",
       "  </thead>\n",
       "  <tbody>\n",
       "    <tr>\n",
       "      <th>1</th>\n",
       "      <td>2017-11-30</td>\n",
       "      <td>Dubai</td>\n",
       "      <td>1</td>\n",
       "      <td>Canada</td>\n",
       "      <td>Spain</td>\n",
       "      <td>W</td>\n",
       "      <td>19</td>\n",
       "      <td>0</td>\n",
       "    </tr>\n",
       "    <tr>\n",
       "      <th>2</th>\n",
       "      <td>2017-11-30</td>\n",
       "      <td>Dubai</td>\n",
       "      <td>2</td>\n",
       "      <td>Canada</td>\n",
       "      <td>Ireland</td>\n",
       "      <td>W</td>\n",
       "      <td>31</td>\n",
       "      <td>0</td>\n",
       "    </tr>\n",
       "    <tr>\n",
       "      <th>3</th>\n",
       "      <td>2017-11-30</td>\n",
       "      <td>Dubai</td>\n",
       "      <td>3</td>\n",
       "      <td>Canada</td>\n",
       "      <td>Fiji</td>\n",
       "      <td>W</td>\n",
       "      <td>31</td>\n",
       "      <td>14</td>\n",
       "    </tr>\n",
       "    <tr>\n",
       "      <th>4</th>\n",
       "      <td>2017-12-01</td>\n",
       "      <td>Dubai</td>\n",
       "      <td>4</td>\n",
       "      <td>Canada</td>\n",
       "      <td>France</td>\n",
       "      <td>W</td>\n",
       "      <td>24</td>\n",
       "      <td>19</td>\n",
       "    </tr>\n",
       "    <tr>\n",
       "      <th>5</th>\n",
       "      <td>2017-12-01</td>\n",
       "      <td>Dubai</td>\n",
       "      <td>5</td>\n",
       "      <td>Canada</td>\n",
       "      <td>Australia</td>\n",
       "      <td>L</td>\n",
       "      <td>7</td>\n",
       "      <td>25</td>\n",
       "    </tr>\n",
       "  </tbody>\n",
       "</table>\n",
       "</div>"
      ],
      "text/plain": [
       "              Date Tournament  TournamentGame    Team   Opponent Outcome  \\\n",
       "GameID                                                                     \n",
       "1       2017-11-30      Dubai               1  Canada      Spain       W   \n",
       "2       2017-11-30      Dubai               2  Canada    Ireland       W   \n",
       "3       2017-11-30      Dubai               3  Canada       Fiji       W   \n",
       "4       2017-12-01      Dubai               4  Canada     France       W   \n",
       "5       2017-12-01      Dubai               5  Canada  Australia       L   \n",
       "\n",
       "        TeamPoints  TeamPointsAllowed  \n",
       "GameID                                 \n",
       "1               19                  0  \n",
       "2               31                  0  \n",
       "3               31                 14  \n",
       "4               24                 19  \n",
       "5                7                 25  "
      ]
     },
     "execution_count": 92,
     "metadata": {},
     "output_type": "execute_result"
    }
   ],
   "source": [
    "# set up the game dataset\n",
    "game_id_Game = games.set_index(['GameID'])\n",
    "game_id_Game.head(5)"
   ]
  },
  {
   "cell_type": "code",
   "execution_count": 97,
   "metadata": {},
   "outputs": [
    {
     "data": {
      "text/html": [
       "<div>\n",
       "<style scoped>\n",
       "    .dataframe tbody tr th:only-of-type {\n",
       "        vertical-align: middle;\n",
       "    }\n",
       "\n",
       "    .dataframe tbody tr th {\n",
       "        vertical-align: top;\n",
       "    }\n",
       "\n",
       "    .dataframe thead th {\n",
       "        text-align: right;\n",
       "    }\n",
       "</style>\n",
       "<table border=\"1\" class=\"dataframe\">\n",
       "  <thead>\n",
       "    <tr style=\"text-align: right;\">\n",
       "      <th></th>\n",
       "      <th>0</th>\n",
       "      <th>1</th>\n",
       "      <th>label</th>\n",
       "      <th>GameID</th>\n",
       "      <th>PlayerID</th>\n",
       "    </tr>\n",
       "  </thead>\n",
       "  <tbody>\n",
       "    <tr>\n",
       "      <th>0</th>\n",
       "      <td>2.434083</td>\n",
       "      <td>-13.524482</td>\n",
       "      <td>0</td>\n",
       "      <td>1.0</td>\n",
       "      <td>2.0</td>\n",
       "    </tr>\n",
       "    <tr>\n",
       "      <th>1</th>\n",
       "      <td>-4.730496</td>\n",
       "      <td>3.097500</td>\n",
       "      <td>1</td>\n",
       "      <td>1.0</td>\n",
       "      <td>3.0</td>\n",
       "    </tr>\n",
       "    <tr>\n",
       "      <th>2</th>\n",
       "      <td>2.218796</td>\n",
       "      <td>5.835577</td>\n",
       "      <td>1</td>\n",
       "      <td>1.0</td>\n",
       "      <td>4.0</td>\n",
       "    </tr>\n",
       "    <tr>\n",
       "      <th>3</th>\n",
       "      <td>5.972115</td>\n",
       "      <td>-12.583526</td>\n",
       "      <td>0</td>\n",
       "      <td>1.0</td>\n",
       "      <td>6.0</td>\n",
       "    </tr>\n",
       "    <tr>\n",
       "      <th>4</th>\n",
       "      <td>-4.804683</td>\n",
       "      <td>2.913355</td>\n",
       "      <td>1</td>\n",
       "      <td>1.0</td>\n",
       "      <td>7.0</td>\n",
       "    </tr>\n",
       "  </tbody>\n",
       "</table>\n",
       "</div>"
      ],
      "text/plain": [
       "          0          1  label  GameID  PlayerID\n",
       "0  2.434083 -13.524482      0     1.0       2.0\n",
       "1 -4.730496   3.097500      1     1.0       3.0\n",
       "2  2.218796   5.835577      1     1.0       4.0\n",
       "3  5.972115 -12.583526      0     1.0       6.0\n",
       "4 -4.804683   2.913355      1     1.0       7.0"
      ]
     },
     "execution_count": 97,
     "metadata": {},
     "output_type": "execute_result"
    }
   ],
   "source": [
    "# read in the tsne labels\n",
    "gp_tsne = pd.read_csv('tsne_lab_gp.csv')\n",
    "gp_tsne.drop(['Unnamed: 0','Unnamed: 0.1'],axis=1,inplace=True)\n",
    "gp_tsne.head(5)"
   ]
  },
  {
   "cell_type": "code",
   "execution_count": 102,
   "metadata": {},
   "outputs": [],
   "source": [
    "# find the corresponding date we need to exam\n",
    "correspond_date = np.array(game_id_Game.loc[gp_tsne.GameID].Date)\n",
    "correspond_date = pd.to_datetime(correspond_date, format=\"%Y-%m-%d\")"
   ]
  },
  {
   "cell_type": "code",
   "execution_count": 105,
   "metadata": {},
   "outputs": [
    {
     "name": "stdout",
     "output_type": "stream",
     "text": [
      "DatetimeIndex(['2017-11-30', '2017-11-30', '2017-11-30', '2017-11-30',\n",
      "               '2017-11-30'],\n",
      "              dtype='datetime64[ns]', freq=None)\n",
      "448\n"
     ]
    }
   ],
   "source": [
    "print(correspond_date[0:5])\n",
    "print(len(correspond_date))"
   ]
  },
  {
   "cell_type": "code",
   "execution_count": 106,
   "metadata": {},
   "outputs": [
    {
     "name": "stdout",
     "output_type": "stream",
     "text": [
      "448\n"
     ]
    }
   ],
   "source": [
    "# find the corresponding player we need to exam\n",
    "correspond_player = np.array(gp_tsne.PlayerID)\n",
    "print(len(correspond_player))"
   ]
  },
  {
   "cell_type": "code",
   "execution_count": 144,
   "metadata": {},
   "outputs": [],
   "source": [
    "import datetime\n",
    "after_day1 = []\n",
    "after_day2 = []\n",
    "after_day3 = []\n",
    "after_day4 = []\n",
    "after_day5 = []\n",
    "\n",
    "date_boundary = datetime.datetime(2018,7,21)\n",
    "\n",
    "index = 0\n",
    "while index < 448:\n",
    "    desire_date = correspond_date[index] + datetime.timedelta(days=1)\n",
    "    if desire_date > date_boundary:\n",
    "        desire_date = boundary\n",
    "    desire_player = int(correspond_player[index])\n",
    "    after_day1.append( ( desire_date, desire_player ) )\n",
    "    index += 1\n",
    "    \n",
    "index = 0\n",
    "while index < 448:\n",
    "    desire_date = correspond_date[index] + datetime.timedelta(days=2)\n",
    "    if desire_date > date_boundary:\n",
    "        desire_date = boundary\n",
    "    desire_player = int(correspond_player[index])\n",
    "    after_day2.append( ( desire_date, desire_player ) )\n",
    "    index += 1\n",
    "    \n",
    "index = 0 \n",
    "while index < 448:\n",
    "    desire_date = correspond_date[index] + datetime.timedelta(days=3)\n",
    "    if desire_date > date_boundary:\n",
    "        desire_date = boundary\n",
    "    desire_player = int(correspond_player[index])\n",
    "    after_day3.append( ( desire_date, desire_player ) )\n",
    "    index += 1\n",
    "    \n",
    "index = 0\n",
    "while index < 448:\n",
    "    desire_date = correspond_date[index] + datetime.timedelta(days=4)\n",
    "    if desire_date > date_boundary:\n",
    "        desire_date = boundary\n",
    "    desire_player = int(correspond_player[index])\n",
    "    after_day4.append( ( desire_date, desire_player ) )\n",
    "    index += 1\n",
    "    \n",
    "index = 0\n",
    "while index < 448:\n",
    "    desire_date = correspond_date[index] + datetime.timedelta(days=5)\n",
    "    if desire_date > date_boundary:\n",
    "        desire_date = boundary\n",
    "    desire_player = int(correspond_player[index])\n",
    "    after_day5.append( ( desire_date, desire_player ) )\n",
    "    index += 1"
   ]
  },
  {
   "cell_type": "code",
   "execution_count": 146,
   "metadata": {},
   "outputs": [
    {
     "name": "stdout",
     "output_type": "stream",
     "text": [
      "448 448 448 448 448\n"
     ]
    }
   ],
   "source": [
    "import warnings\n",
    "warnings.filterwarnings('ignore')\n",
    "Fatigue1 = np.array(date_wellness.loc[after_day1].Fatigue)\n",
    "Fatigue2 = np.array(date_wellness.loc[after_day2].Fatigue)\n",
    "Fatigue3 = np.array(date_wellness.loc[after_day3].Fatigue)\n",
    "Fatigue4 = np.array(date_wellness.loc[after_day4].Fatigue)\n",
    "Fatigue5 = np.array(date_wellness.loc[after_day5].Fatigue)\n",
    "print(len(Fatigue1),len(Fatigue2),len(Fatigue3),len(Fatigue4),len(Fatigue5))"
   ]
  },
  {
   "cell_type": "code",
   "execution_count": 147,
   "metadata": {},
   "outputs": [],
   "source": [
    "gp_tsne_cp = gp_tsne.copy()\n",
    "gp_tsne_cp['Fatigue1'] = Fatigue1\n",
    "gp_tsne_cp['Fatigue2'] = Fatigue2\n",
    "gp_tsne_cp['Fatigue3'] = Fatigue3\n",
    "gp_tsne_cp['Fatigue4'] = Fatigue4\n",
    "gp_tsne_cp['Fatigue5'] = Fatigue5"
   ]
  },
  {
   "cell_type": "code",
   "execution_count": 148,
   "metadata": {},
   "outputs": [],
   "source": [
    "gp_tsne_cp.to_csv('with_fatigue.csv')"
   ]
  },
  {
   "cell_type": "code",
   "execution_count": 150,
   "metadata": {},
   "outputs": [
    {
     "data": {
      "text/plain": [
       "      label\n",
       "1.0   1        22\n",
       "      0         6\n",
       "2.0   0        30\n",
       "      1         8\n",
       "3.0   1        23\n",
       "      0         3\n",
       "4.0   1        26\n",
       "      0        11\n",
       "5.0   0        14\n",
       "      1        14\n",
       "6.0   0         5\n",
       "7.0   1        31\n",
       "      0         3\n",
       "8.0   1        27\n",
       "      0         7\n",
       "9.0   0         5\n",
       "      1         5\n",
       "10.0  1        17\n",
       "      0         9\n",
       "11.0  1        31\n",
       "      0         7\n",
       "12.0  1        16\n",
       "      0        12\n",
       "13.0  0        27\n",
       "      1        11\n",
       "14.0  0        17\n",
       "      1         1\n",
       "15.0  1        12\n",
       "      0         9\n",
       "16.0  0        14\n",
       "      1        14\n",
       "17.0  0         5\n",
       "      1         1\n",
       "18.0  0         1\n",
       "19.0  0         1\n",
       "20.0  0         1\n",
       "21.0  0         2\n",
       "Name: label, dtype: int64"
      ]
     },
     "execution_count": 150,
     "metadata": {},
     "output_type": "execute_result"
    }
   ],
   "source": [
    "gp_tsne.groupby(player_id).label.value_counts()"
   ]
  },
  {
   "cell_type": "code",
   "execution_count": null,
   "metadata": {},
   "outputs": [],
   "source": []
  }
 ],
 "metadata": {
  "kernelspec": {
   "display_name": "Python 3",
   "language": "python",
   "name": "python3"
  },
  "language_info": {
   "codemirror_mode": {
    "name": "ipython",
    "version": 3
   },
   "file_extension": ".py",
   "mimetype": "text/x-python",
   "name": "python",
   "nbconvert_exporter": "python",
   "pygments_lexer": "ipython3",
   "version": "3.7.2"
  }
 },
 "nbformat": 4,
 "nbformat_minor": 2
}
